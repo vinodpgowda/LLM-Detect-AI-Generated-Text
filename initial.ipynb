{
 "cells": [
  {
   "cell_type": "code",
   "execution_count": 1,
   "id": "df58a527",
   "metadata": {
    "_cell_guid": "b1076dfc-b9ad-4769-8c92-a6c4dae69d19",
    "_uuid": "8f2839f25d086af736a60e9eeb907d3b93b6e0e5",
    "execution": {
     "iopub.execute_input": "2023-12-04T01:02:45.023538Z",
     "iopub.status.busy": "2023-12-04T01:02:45.022838Z",
     "iopub.status.idle": "2023-12-04T01:02:45.419729Z",
     "shell.execute_reply": "2023-12-04T01:02:45.418643Z"
    },
    "papermill": {
     "duration": 0.407186,
     "end_time": "2023-12-04T01:02:45.423115",
     "exception": false,
     "start_time": "2023-12-04T01:02:45.015929",
     "status": "completed"
    },
    "tags": []
   },
   "outputs": [
    {
     "name": "stdout",
     "output_type": "stream",
     "text": [
      "/kaggle/input/llm-detect-ai-generated-text/sample_submission.csv\n",
      "/kaggle/input/llm-detect-ai-generated-text/train_prompts.csv\n",
      "/kaggle/input/llm-detect-ai-generated-text/test_essays.csv\n",
      "/kaggle/input/llm-detect-ai-generated-text/train_essays.csv\n"
     ]
    }
   ],
   "source": [
    "# This Python 3 environment comes with many helpful analytics libraries installed\n",
    "# It is defined by the kaggle/python Docker image: https://github.com/kaggle/docker-python\n",
    "# For example, here's several helpful packages to load\n",
    "\n",
    "import numpy as np # linear algebra\n",
    "import pandas as pd # data processing, CSV file I/O (e.g. pd.read_csv)\n",
    "\n",
    "# Input data files are available in the read-only \"../input/\" directory\n",
    "# For example, running this (by clicking run or pressing Shift+Enter) will list all files under the input directory\n",
    "\n",
    "import os\n",
    "for dirname, _, filenames in os.walk('/kaggle/input'):\n",
    "    for filename in filenames:\n",
    "        print(os.path.join(dirname, filename))\n",
    "\n",
    "# You can write up to 20GB to the current directory (/kaggle/working/) that gets preserved as output when you create a version using \"Save & Run All\" \n",
    "# You can also write temporary files to /kaggle/temp/, but they won't be saved outside of the current session"
   ]
  },
  {
   "cell_type": "code",
   "execution_count": 2,
   "id": "c3d6c451",
   "metadata": {
    "execution": {
     "iopub.execute_input": "2023-12-04T01:02:45.433523Z",
     "iopub.status.busy": "2023-12-04T01:02:45.433028Z",
     "iopub.status.idle": "2023-12-04T01:03:27.658325Z",
     "shell.execute_reply": "2023-12-04T01:03:27.656912Z"
    },
    "papermill": {
     "duration": 42.234752,
     "end_time": "2023-12-04T01:03:27.663154",
     "exception": false,
     "start_time": "2023-12-04T01:02:45.428402",
     "status": "completed"
    },
    "tags": []
   },
   "outputs": [
    {
     "name": "stdout",
     "output_type": "stream",
     "text": [
      "[nltk_data] Error loading punkt: <urlopen error [Errno -3] Temporary\n",
      "[nltk_data]     failure in name resolution>\n",
      "[nltk_data] Error loading stopwords: <urlopen error [Errno -3]\n",
      "[nltk_data]     Temporary failure in name resolution>\n"
     ]
    },
    {
     "data": {
      "text/plain": [
       "False"
      ]
     },
     "execution_count": 2,
     "metadata": {},
     "output_type": "execute_result"
    }
   ],
   "source": [
    "import nltk\n",
    "import pandas as pd\n",
    "from nltk.tokenize import word_tokenize\n",
    "from nltk.corpus import stopwords\n",
    "from collections import defaultdict\n",
    "from sklearn.model_selection import train_test_split\n",
    "from sklearn.metrics import accuracy_score\n",
    "import numpy as np\n",
    "\n",
    "nltk.download('punkt')\n",
    "nltk.download('stopwords')"
   ]
  },
  {
   "cell_type": "code",
   "execution_count": 3,
   "id": "afb31310",
   "metadata": {
    "execution": {
     "iopub.execute_input": "2023-12-04T01:03:27.672209Z",
     "iopub.status.busy": "2023-12-04T01:03:27.671780Z",
     "iopub.status.idle": "2023-12-04T01:03:27.801198Z",
     "shell.execute_reply": "2023-12-04T01:03:27.799983Z"
    },
    "papermill": {
     "duration": 0.136987,
     "end_time": "2023-12-04T01:03:27.803818",
     "exception": false,
     "start_time": "2023-12-04T01:03:27.666831",
     "status": "completed"
    },
    "tags": []
   },
   "outputs": [],
   "source": [
    "# Load your data into a DataFrame \n",
    "train_data = pd.read_csv('/kaggle/input/llm-detect-ai-generated-text/train_essays.csv')\n",
    "train_data['text'] = train_data['text'].replace(np.nan, '', regex=True)\n",
    "test_data = pd.read_csv('/kaggle/input/llm-detect-ai-generated-text/test_essays.csv')\n",
    "test_data['text'] = test_data['text'].replace(np.nan, '', regex=True)"
   ]
  },
  {
   "cell_type": "code",
   "execution_count": 4,
   "id": "173bf523",
   "metadata": {
    "execution": {
     "iopub.execute_input": "2023-12-04T01:03:27.812773Z",
     "iopub.status.busy": "2023-12-04T01:03:27.812347Z",
     "iopub.status.idle": "2023-12-04T01:03:31.701570Z",
     "shell.execute_reply": "2023-12-04T01:03:31.700749Z"
    },
    "papermill": {
     "duration": 3.896721,
     "end_time": "2023-12-04T01:03:31.704156",
     "exception": false,
     "start_time": "2023-12-04T01:03:27.807435",
     "status": "completed"
    },
    "tags": []
   },
   "outputs": [],
   "source": [
    "import re\n",
    "\n",
    "def preprocess(sentence_list):\n",
    "    stop_words = set(stopwords.words('english'))\n",
    "    row_sentence_list = []\n",
    "\n",
    "    for i in sentence_list:\n",
    "        # Keep only words and digits\n",
    "        sentence = re.sub(r\"\\W\", \" \", i)\n",
    "\n",
    "        # Remove digits\n",
    "        sentence = re.sub(r\"\\d\", \" \", sentence)\n",
    "\n",
    "        # Remove extra spaces\n",
    "        sentence = re.sub(r\"\\s+[a-z]\\s+\", \" \", sentence, flags=re.I)\n",
    "\n",
    "        # Remove the space at the beginning of the sentence\n",
    "        sentence = re.sub(r\"^\\s\", \" \", sentence)\n",
    "\n",
    "        # Remove the space at the ending of the sentence\n",
    "        sentence = re.sub(r\"\\s$\", \" \", sentence)\n",
    "\n",
    "        # Tokenize and remove stopwords\n",
    "        words = word_tokenize(sentence)\n",
    "        sentence = [word.lower() for word in words if word.isalpha() and word.lower() not in stop_words]\n",
    "\n",
    "        row_sentence_list.append(sentence)\n",
    "\n",
    "    return row_sentence_list\n",
    "\n",
    "# Preprocess and save the preprocessed sentences in the DataFrame\n",
    "train_data['preprocessed_text'] = preprocess(train_data['text'])\n",
    "test_data['preprocessed_text'] = preprocess(test_data['text'])"
   ]
  },
  {
   "cell_type": "code",
   "execution_count": 5,
   "id": "adea044f",
   "metadata": {
    "execution": {
     "iopub.execute_input": "2023-12-04T01:03:31.714729Z",
     "iopub.status.busy": "2023-12-04T01:03:31.712570Z",
     "iopub.status.idle": "2023-12-04T01:03:31.853896Z",
     "shell.execute_reply": "2023-12-04T01:03:31.852356Z"
    },
    "papermill": {
     "duration": 0.14883,
     "end_time": "2023-12-04T01:03:31.856699",
     "exception": false,
     "start_time": "2023-12-04T01:03:31.707869",
     "status": "completed"
    },
    "tags": []
   },
   "outputs": [],
   "source": [
    "# Flatten the list of preprocessed sentences\n",
    "flat_list = [word for essay in train_data['preprocessed_text'] for word in essay]\n",
    "\n",
    "word_counts = {}\n",
    "for word in flat_list:\n",
    "    word_counts[word] = word_counts.get(word,0) + 1\n",
    "    \n",
    "# Build a vocabulary by keeping words that occur at least five times\n",
    "min_occurrence = 20\n",
    "vocabulary = [word for word, count in word_counts.items() if count >= min_occurrence]\n",
    "\n",
    "# # Print the first few words in the vocabulary\n",
    "# print(\"Vocabulary:\", vocabulary)\n",
    "\n",
    "# print(word_counts)"
   ]
  },
  {
   "cell_type": "code",
   "execution_count": 6,
   "id": "34b59e07",
   "metadata": {
    "execution": {
     "iopub.execute_input": "2023-12-04T01:03:31.865734Z",
     "iopub.status.busy": "2023-12-04T01:03:31.865328Z",
     "iopub.status.idle": "2023-12-04T01:03:31.871997Z",
     "shell.execute_reply": "2023-12-04T01:03:31.870884Z"
    },
    "papermill": {
     "duration": 0.013795,
     "end_time": "2023-12-04T01:03:31.874176",
     "exception": false,
     "start_time": "2023-12-04T01:03:31.860381",
     "status": "completed"
    },
    "tags": []
   },
   "outputs": [],
   "source": [
    "def probability_with_smoothing(vocabulary, essays, alpha=1):\n",
    "    probabilities = {}\n",
    "    essays_count = len(essays)\n",
    "    vocabulary_size = len(vocabulary)\n",
    "\n",
    "    for word in vocabulary:\n",
    "        word_count = 0  # Initialize the count for each word\n",
    "        for essay in essays:\n",
    "            if word in essay:\n",
    "                word_count += 1\n",
    "\n",
    "        # Laplace smoothing\n",
    "        probability = (word_count + alpha) / (essays_count + alpha * vocabulary_size)\n",
    "\n",
    "        probabilities[word] = probability\n",
    "\n",
    "    return probabilities\n"
   ]
  },
  {
   "cell_type": "code",
   "execution_count": 7,
   "id": "3d41395c",
   "metadata": {
    "execution": {
     "iopub.execute_input": "2023-12-04T01:03:31.883406Z",
     "iopub.status.busy": "2023-12-04T01:03:31.883003Z",
     "iopub.status.idle": "2023-12-04T01:03:45.900405Z",
     "shell.execute_reply": "2023-12-04T01:03:45.899135Z"
    },
    "papermill": {
     "duration": 14.024797,
     "end_time": "2023-12-04T01:03:45.902938",
     "exception": false,
     "start_time": "2023-12-04T01:03:31.878141",
     "status": "completed"
    },
    "tags": []
   },
   "outputs": [
    {
     "name": "stdout",
     "output_type": "stream",
     "text": [
      "Accuracy on validation essays with smoothing: 0.7355072463768116\n"
     ]
    }
   ],
   "source": [
    "human_essays = train_data[train_data[\"generated\"]==0][\"preprocessed_text\"]\n",
    "\n",
    "# Essays generated by LLM (generated == 1)\n",
    "llm_essays = train_data[train_data[\"generated\"]==1][\"preprocessed_text\"]\n",
    "\n",
    "# Use probability_with_smoothing for all essays, human essays, and LLM essays\n",
    "probabilities_human_essays_smoothed = probability_with_smoothing(vocabulary, human_essays)\n",
    "probabilities_llm_essays_smoothed = probability_with_smoothing(vocabulary, llm_essays)\n",
    "\n",
    "# Split the data into training and validation sets\n",
    "X_train, X_val, y_train, y_val = train_test_split(train_data['preprocessed_text'],train_data['generated'],test_size=0.2,random_state=42)\n",
    "\n",
    "# Classification based on probabilities with smoothing\n",
    "def classify_essay_with_smoothing(probabilities_human, probabilities_llm, essay):\n",
    "    score_human = np.prod([probabilities_human[word] for word in essay if word in probabilities_human])\n",
    "    score_llm = np.prod([probabilities_llm[word] for word in essay if word in probabilities_llm])\n",
    "\n",
    "    return 0 if score_human > score_llm else 1\n",
    "\n",
    "# Classify validation essays with smoothing\n",
    "predicted_labels_val_smoothed = []\n",
    "\n",
    "for essay in X_val:\n",
    "    predicted_labels_batch = [classify_essay_with_smoothing(probabilities_human_essays_smoothed, probabilities_llm_essays_smoothed, essay)]\n",
    "    predicted_labels_val_smoothed.extend(predicted_labels_batch)\n",
    "\n",
    "# Evaluate accuracy\n",
    "accuracy_val_smoothed = accuracy_score(y_val, predicted_labels_val_smoothed)\n",
    "\n",
    "print(f\"Accuracy on validation essays with smoothing: {accuracy_val_smoothed}\")\n"
   ]
  },
  {
   "cell_type": "code",
   "execution_count": 8,
   "id": "4395e3c5",
   "metadata": {
    "execution": {
     "iopub.execute_input": "2023-12-04T01:03:45.912057Z",
     "iopub.status.busy": "2023-12-04T01:03:45.911681Z",
     "iopub.status.idle": "2023-12-04T01:03:45.923106Z",
     "shell.execute_reply": "2023-12-04T01:03:45.921839Z"
    },
    "papermill": {
     "duration": 0.01901,
     "end_time": "2023-12-04T01:03:45.925519",
     "exception": false,
     "start_time": "2023-12-04T01:03:45.906509",
     "status": "completed"
    },
    "tags": []
   },
   "outputs": [],
   "source": [
    "predicted_labels_test_smoothed = []\n",
    "X_test = test_data[\"preprocessed_text\"]\n",
    "for essay in X_test:\n",
    "    predicted_labels_test_batch = [classify_essay_with_smoothing(probabilities_human_essays_smoothed, probabilities_llm_essays_smoothed, essay)]\n",
    "    predicted_labels_test_smoothed.extend(predicted_labels_test_batch)\n",
    "    \n",
    "# Create a DataFrame for submission\n",
    "submission_df = pd.DataFrame({\n",
    "    'id': test_data['id'],  # Assuming the test data has an 'essay_id' column\n",
    "    'generated': predicted_labels_test_smoothed\n",
    "})\n",
    "\n",
    "submission_df.to_csv(\"submission.csv\", index=False)\n"
   ]
  },
  {
   "cell_type": "code",
   "execution_count": null,
   "id": "f37feba7",
   "metadata": {
    "papermill": {
     "duration": 0.003514,
     "end_time": "2023-12-04T01:03:45.932698",
     "exception": false,
     "start_time": "2023-12-04T01:03:45.929184",
     "status": "completed"
    },
    "tags": []
   },
   "outputs": [],
   "source": []
  }
 ],
 "metadata": {
  "kaggle": {
   "accelerator": "none",
   "dataSources": [
    {
     "databundleVersionId": 6888007,
     "sourceId": 61542,
     "sourceType": "competition"
    }
   ],
   "dockerImageVersionId": 30587,
   "isGpuEnabled": false,
   "isInternetEnabled": false,
   "language": "python",
   "sourceType": "notebook"
  },
  "kernelspec": {
   "display_name": "Python 3",
   "language": "python",
   "name": "python3"
  },
  "language_info": {
   "codemirror_mode": {
    "name": "ipython",
    "version": 3
   },
   "file_extension": ".py",
   "mimetype": "text/x-python",
   "name": "python",
   "nbconvert_exporter": "python",
   "pygments_lexer": "ipython3",
   "version": "3.10.12"
  },
  "papermill": {
   "default_parameters": {},
   "duration": 64.827235,
   "end_time": "2023-12-04T01:03:46.657783",
   "environment_variables": {},
   "exception": null,
   "input_path": "__notebook__.ipynb",
   "output_path": "__notebook__.ipynb",
   "parameters": {},
   "start_time": "2023-12-04T01:02:41.830548",
   "version": "2.4.0"
  }
 },
 "nbformat": 4,
 "nbformat_minor": 5
}
